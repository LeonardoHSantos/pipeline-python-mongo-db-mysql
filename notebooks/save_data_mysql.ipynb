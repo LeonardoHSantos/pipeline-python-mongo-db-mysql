{
 "cells": [
  {
   "cell_type": "code",
   "execution_count": 1,
   "metadata": {},
   "outputs": [],
   "source": [
    "import mysql.connector\n",
    "from configs_db import *"
   ]
  },
  {
   "cell_type": "code",
   "execution_count": 2,
   "metadata": {},
   "outputs": [
    {
     "name": "stdout",
     "output_type": "stream",
     "text": [
      "<mysql.connector.connection_cext.CMySQLConnection object at 0x7f165b64dab0>\n"
     ]
    }
   ],
   "source": [
    "cnx = mysql.connector.connect(\n",
    "    host=HOST_DB_MYSQL,\n",
    "    user=USERNAME_DB_MYSQL,\n",
    "    password=PASSWORD_DB_MYSQL\n",
    ")\n",
    "print(cnx)"
   ]
  },
  {
   "cell_type": "code",
   "execution_count": 3,
   "metadata": {},
   "outputs": [],
   "source": [
    "cursor = cnx.cursor()"
   ]
  },
  {
   "cell_type": "code",
   "execution_count": 4,
   "metadata": {},
   "outputs": [],
   "source": [
    "cursor.execute(\"CREATE DATABASE IF NOT EXISTS db_produtos;\")"
   ]
  },
  {
   "cell_type": "code",
   "execution_count": 6,
   "metadata": {},
   "outputs": [
    {
     "name": "stdout",
     "output_type": "stream",
     "text": [
      "('db_produtos',)\n",
      "('information_schema',)\n",
      "('mysql',)\n",
      "('performance_schema',)\n",
      "('sys',)\n"
     ]
    }
   ],
   "source": [
    "cursor.execute(\"SHOW DATABASES;\")\n",
    "for db in cursor:\n",
    "    print(db)"
   ]
  },
  {
   "cell_type": "code",
   "execution_count": 7,
   "metadata": {},
   "outputs": [],
   "source": [
    "import pandas as pd"
   ]
  },
  {
   "cell_type": "code",
   "execution_count": 9,
   "metadata": {},
   "outputs": [
    {
     "data": {
      "text/html": [
       "<div>\n",
       "<style scoped>\n",
       "    .dataframe tbody tr th:only-of-type {\n",
       "        vertical-align: middle;\n",
       "    }\n",
       "\n",
       "    .dataframe tbody tr th {\n",
       "        vertical-align: top;\n",
       "    }\n",
       "\n",
       "    .dataframe thead th {\n",
       "        text-align: right;\n",
       "    }\n",
       "</style>\n",
       "<table border=\"1\" class=\"dataframe\">\n",
       "  <thead>\n",
       "    <tr style=\"text-align: right;\">\n",
       "      <th></th>\n",
       "      <th>_id</th>\n",
       "      <th>Produto</th>\n",
       "      <th>Categoria do Produto</th>\n",
       "      <th>Preço</th>\n",
       "      <th>Frete</th>\n",
       "      <th>Data da Compra</th>\n",
       "      <th>Vendedor</th>\n",
       "      <th>Local da compra</th>\n",
       "      <th>Avaliação da compra</th>\n",
       "      <th>Tipo de pagamento</th>\n",
       "      <th>Quantidade de parcelas</th>\n",
       "      <th>Latitude</th>\n",
       "      <th>Longintude</th>\n",
       "    </tr>\n",
       "  </thead>\n",
       "  <tbody>\n",
       "    <tr>\n",
       "      <th>0</th>\n",
       "      <td>6675b13616cc5a9be7ccb11d</td>\n",
       "      <td>Modelagem preditiva</td>\n",
       "      <td>livros</td>\n",
       "      <td>92.45</td>\n",
       "      <td>5.609697</td>\n",
       "      <td>2020-01-01</td>\n",
       "      <td>Thiago Silva</td>\n",
       "      <td>BA</td>\n",
       "      <td>1</td>\n",
       "      <td>cartao_credito</td>\n",
       "      <td>3</td>\n",
       "      <td>-13.29</td>\n",
       "      <td>-41.71</td>\n",
       "    </tr>\n",
       "    <tr>\n",
       "      <th>1</th>\n",
       "      <td>6675b13616cc5a9be7ccb11e</td>\n",
       "      <td>Iniciando em programação</td>\n",
       "      <td>livros</td>\n",
       "      <td>43.84</td>\n",
       "      <td>0.000000</td>\n",
       "      <td>2020-01-01</td>\n",
       "      <td>Mariana Ferreira</td>\n",
       "      <td>SP</td>\n",
       "      <td>5</td>\n",
       "      <td>cartao_credito</td>\n",
       "      <td>1</td>\n",
       "      <td>-22.19</td>\n",
       "      <td>-48.79</td>\n",
       "    </tr>\n",
       "    <tr>\n",
       "      <th>2</th>\n",
       "      <td>6675b13616cc5a9be7ccb130</td>\n",
       "      <td>Iniciando em programação</td>\n",
       "      <td>livros</td>\n",
       "      <td>63.25</td>\n",
       "      <td>3.894137</td>\n",
       "      <td>2022-01-01</td>\n",
       "      <td>Juliana Costa</td>\n",
       "      <td>RJ</td>\n",
       "      <td>5</td>\n",
       "      <td>cartao_credito</td>\n",
       "      <td>4</td>\n",
       "      <td>-22.25</td>\n",
       "      <td>-42.66</td>\n",
       "    </tr>\n",
       "    <tr>\n",
       "      <th>3</th>\n",
       "      <td>6675b13616cc5a9be7ccb13e</td>\n",
       "      <td>Ciência de dados com python</td>\n",
       "      <td>livros</td>\n",
       "      <td>86.13</td>\n",
       "      <td>5.273176</td>\n",
       "      <td>2021-02-01</td>\n",
       "      <td>Camila Ribeiro</td>\n",
       "      <td>RJ</td>\n",
       "      <td>4</td>\n",
       "      <td>cartao_credito</td>\n",
       "      <td>3</td>\n",
       "      <td>-22.25</td>\n",
       "      <td>-42.66</td>\n",
       "    </tr>\n",
       "    <tr>\n",
       "      <th>4</th>\n",
       "      <td>6675b13616cc5a9be7ccb140</td>\n",
       "      <td>Ciência de dados com python</td>\n",
       "      <td>livros</td>\n",
       "      <td>72.75</td>\n",
       "      <td>1.458158</td>\n",
       "      <td>2021-02-01</td>\n",
       "      <td>Beatriz Moraes</td>\n",
       "      <td>PR</td>\n",
       "      <td>4</td>\n",
       "      <td>cartao_credito</td>\n",
       "      <td>2</td>\n",
       "      <td>-24.89</td>\n",
       "      <td>-51.55</td>\n",
       "    </tr>\n",
       "  </tbody>\n",
       "</table>\n",
       "</div>"
      ],
      "text/plain": [
       "                        _id                      Produto Categoria do Produto  \\\n",
       "0  6675b13616cc5a9be7ccb11d          Modelagem preditiva               livros   \n",
       "1  6675b13616cc5a9be7ccb11e     Iniciando em programação               livros   \n",
       "2  6675b13616cc5a9be7ccb130     Iniciando em programação               livros   \n",
       "3  6675b13616cc5a9be7ccb13e  Ciência de dados com python               livros   \n",
       "4  6675b13616cc5a9be7ccb140  Ciência de dados com python               livros   \n",
       "\n",
       "   Preço     Frete Data da Compra          Vendedor Local da compra  \\\n",
       "0  92.45  5.609697     2020-01-01      Thiago Silva              BA   \n",
       "1  43.84  0.000000     2020-01-01  Mariana Ferreira              SP   \n",
       "2  63.25  3.894137     2022-01-01     Juliana Costa              RJ   \n",
       "3  86.13  5.273176     2021-02-01    Camila Ribeiro              RJ   \n",
       "4  72.75  1.458158     2021-02-01    Beatriz Moraes              PR   \n",
       "\n",
       "   Avaliação da compra Tipo de pagamento  Quantidade de parcelas  Latitude  \\\n",
       "0                    1    cartao_credito                       3    -13.29   \n",
       "1                    5    cartao_credito                       1    -22.19   \n",
       "2                    5    cartao_credito                       4    -22.25   \n",
       "3                    4    cartao_credito                       3    -22.25   \n",
       "4                    4    cartao_credito                       2    -24.89   \n",
       "\n",
       "   Longintude  \n",
       "0      -41.71  \n",
       "1      -48.79  \n",
       "2      -42.66  \n",
       "3      -42.66  \n",
       "4      -51.55  "
      ]
     },
     "execution_count": 9,
     "metadata": {},
     "output_type": "execute_result"
    }
   ],
   "source": [
    "df_livros = pd.read_csv(\"/home/leonardo/pipeline-python-mongo-mysql/data/tabela_livros.csv\")\n",
    "df_livros.head()"
   ]
  },
  {
   "cell_type": "code",
   "execution_count": 10,
   "metadata": {},
   "outputs": [
    {
     "data": {
      "text/plain": [
       "Index(['_id', 'Produto', 'Categoria do Produto', 'Preço', 'Frete',\n",
       "       'Data da Compra', 'Vendedor', 'Local da compra', 'Avaliação da compra',\n",
       "       'Tipo de pagamento', 'Quantidade de parcelas', 'Latitude',\n",
       "       'Longintude'],\n",
       "      dtype='object')"
      ]
     },
     "execution_count": 10,
     "metadata": {},
     "output_type": "execute_result"
    }
   ],
   "source": [
    "df_livros.columns"
   ]
  },
  {
   "cell_type": "code",
   "execution_count": 11,
   "metadata": {},
   "outputs": [
    {
     "data": {
      "text/plain": [
       "(742, 13)"
      ]
     },
     "execution_count": 11,
     "metadata": {},
     "output_type": "execute_result"
    }
   ],
   "source": [
    "df_livros.shape"
   ]
  },
  {
   "cell_type": "code",
   "execution_count": 12,
   "metadata": {},
   "outputs": [],
   "source": [
    "cursor.execute(\"\"\"\n",
    "    CREATE TABLE IF NOT EXISTS db_produtos.tb_livros(\n",
    "        id VARCHAR(100),\n",
    "        Produto VARCHAR(100),\n",
    "        Categoria_Produto VARCHAR(100),\n",
    "        Preco FLOAT(10,2),\n",
    "        Frete FLOAT(10,2),\n",
    "        Data_Compra DATE,\n",
    "        Vendedor VARCHAR(100),\n",
    "        Local_Compra VARCHAR(100),\n",
    "        Avaliacao_Compra INT,\n",
    "        Tipo_Pagamento VARCHAR(100),\n",
    "        Qntd_Parcelas INT,\n",
    "        Latitude FLOAT(10,2),\n",
    "        Longintude FLOAT(10,2),\n",
    "               \n",
    "        PRIMARY KEY (id)\n",
    "    );\n",
    "\"\"\")"
   ]
  },
  {
   "cell_type": "code",
   "execution_count": 15,
   "metadata": {},
   "outputs": [
    {
     "name": "stdout",
     "output_type": "stream",
     "text": [
      "('tb_livros',)\n"
     ]
    }
   ],
   "source": [
    "cursor.execute(\"USE db_produtos;\")\n",
    "cursor.execute(\"SHOW TABLES;\")\n",
    "for tb in cursor:\n",
    "    print(tb)"
   ]
  }
 ],
 "metadata": {
  "kernelspec": {
   "display_name": "venv",
   "language": "python",
   "name": "python3"
  },
  "language_info": {
   "codemirror_mode": {
    "name": "ipython",
    "version": 3
   },
   "file_extension": ".py",
   "mimetype": "text/x-python",
   "name": "python",
   "nbconvert_exporter": "python",
   "pygments_lexer": "ipython3",
   "version": "3.10.12"
  }
 },
 "nbformat": 4,
 "nbformat_minor": 2
}
